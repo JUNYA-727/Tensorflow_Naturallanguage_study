{
  "nbformat": 4,
  "nbformat_minor": 0,
  "metadata": {
    "colab": {
      "name": "tensorflow_naturallanguage2.ipynb",
      "provenance": [],
      "toc_visible": true,
      "authorship_tag": "ABX9TyPgJi77Bx2UpAUc5VNbe3S2",
      "include_colab_link": true
    },
    "kernelspec": {
      "name": "python3",
      "display_name": "Python 3"
    },
    "language_info": {
      "name": "python"
    }
  },
  "cells": [
    {
      "cell_type": "markdown",
      "metadata": {
        "id": "view-in-github",
        "colab_type": "text"
      },
      "source": [
        "<a href=\"https://colab.research.google.com/github/JUNYA-727/Tensorflow_Naturallanguage_study/blob/main/tensorflow_naturallanguage2.ipynb\" target=\"_parent\"><img src=\"https://colab.research.google.com/assets/colab-badge.svg\" alt=\"Open In Colab\"/></a>"
      ]
    },
    {
      "cell_type": "code",
      "metadata": {
        "colab": {
          "base_uri": "https://localhost:8080/"
        },
        "id": "pQXN5hsfjAMP",
        "outputId": "39f32a04-402a-4bfc-d877-cad7cc430f8c"
      },
      "source": [
        "import csv\n",
        "import tensorflow as tf\n",
        "import numpy as np\n",
        "from tensorflow.keras.preprocessing.text import Tokenizer\n",
        "from tensorflow.keras.preprocessing.sequence import pad_sequences\n",
        "\n",
        "# bbc-text.csv\n",
        "!gdown --id 1rX10xeI3eUJmOLsc4pOPY6AnCLO8DxNj"
      ],
      "execution_count": 1,
      "outputs": [
        {
          "output_type": "stream",
          "name": "stdout",
          "text": [
            "Downloading...\n",
            "From: https://drive.google.com/uc?id=1rX10xeI3eUJmOLsc4pOPY6AnCLO8DxNj\n",
            "To: /content/bbc-text.csv\n",
            "\r  0% 0.00/5.06M [00:00<?, ?B/s]\r100% 5.06M/5.06M [00:00<00:00, 78.3MB/s]\n"
          ]
        }
      ]
    },
    {
      "cell_type": "code",
      "metadata": {
        "id": "K9jKhR47jJfE"
      },
      "source": [
        "vocab_size = 1000 \n",
        "embedding_dim = 16 \n",
        "max_length = 120 \n",
        "trunc_type='post'  \n",
        "padding_type='post'\n",
        "oov_tok = \"<OOV>\"\n",
        "training_portion = .8"
      ],
      "execution_count": 23,
      "outputs": []
    },
    {
      "cell_type": "code",
      "metadata": {
        "id": "diseblVhjJck"
      },
      "source": [
        "sentences = []\n",
        "labels = []\n",
        "stopwords = [ \"a\", \"about\", \"above\", \"after\", \"again\", \"against\", \"all\", \"am\", \"an\", \"and\", \"any\", \"are\", \"as\", \"at\", \"be\", \"because\", \"been\", \"before\", \"being\", \"below\", \"between\", \"both\", \"but\", \"by\", \"could\", \"did\", \"do\", \"does\", \"doing\", \"down\", \"during\", \"each\", \"few\", \"for\", \"from\", \"further\", \"had\", \"has\", \"have\", \"having\", \"he\", \"he'd\", \"he'll\", \"he's\", \"her\", \"here\", \"here's\", \"hers\", \"herself\", \"him\", \"himself\", \"his\", \"how\", \"how's\", \"i\", \"i'd\", \"i'll\", \"i'm\", \"i've\", \"if\", \"in\", \"into\", \"is\", \"it\", \"it's\", \"its\", \"itself\", \"let's\", \"me\", \"more\", \"most\", \"my\", \"myself\", \"nor\", \"of\", \"on\", \"once\", \"only\", \"or\", \"other\", \"ought\", \"our\", \"ours\", \"ourselves\", \"out\", \"over\", \"own\", \"same\", \"she\", \"she'd\", \"she'll\", \"she's\", \"should\", \"so\", \"some\", \"such\", \"than\", \"that\", \"that's\", \"the\", \"their\", \"theirs\", \"them\", \"themselves\", \"then\", \"there\", \"there's\", \"these\", \"they\", \"they'd\", \"they'll\", \"they're\", \"they've\", \"this\", \"those\", \"through\", \"to\", \"too\", \"under\", \"until\", \"up\", \"very\", \"was\", \"we\", \"we'd\", \"we'll\", \"we're\", \"we've\", \"were\", \"what\", \"what's\", \"when\", \"when's\", \"where\", \"where's\", \"which\", \"while\", \"who\", \"who's\", \"whom\", \"why\", \"why's\", \"with\", \"would\", \"you\", \"you'd\", \"you'll\", \"you're\", \"you've\", \"your\", \"yours\", \"yourself\", \"yourselves\" ]"
      ],
      "execution_count": 32,
      "outputs": []
    },
    {
      "cell_type": "code",
      "metadata": {
        "id": "K_Vd-hdcjJU9"
      },
      "source": [
        "with open(\"./bbc-text.csv\", 'r') as csvfile:\n",
        "    reader = csv.reader(csvfile, delimiter=',')\n",
        "    next(reader)\n",
        "    for i in reader:\n",
        "      labels.append(i[0])\n",
        "      sentence=i[1]\n",
        "      #stopwordsに該当する文字が入っている場合は取り除く\n",
        "      for word in stopwords:\n",
        "        token=' '+word+' '\n",
        "        sentence=sentence.replace(token,\" \")\n",
        "      sentences.append(sentence)"
      ],
      "execution_count": 33,
      "outputs": []
    },
    {
      "cell_type": "code",
      "metadata": {
        "colab": {
          "base_uri": "https://localhost:8080/"
        },
        "id": "7uPM4tQ2jJSx",
        "outputId": "c63ddc48-2bf6-4c57-d8e7-76330b2bf052"
      },
      "source": [
        "print(len(labels))\n",
        "print(len(sentences))\n",
        "print(sentences[0])"
      ],
      "execution_count": 34,
      "outputs": [
        {
          "output_type": "stream",
          "name": "stdout",
          "text": [
            "2225\n",
            "2225\n",
            "tv future hands viewers home theatre systems  plasma high-definition tvs  digital video recorders moving living room  way people watch tv will radically different five years  time.  according expert panel gathered annual consumer electronics show las vegas discuss new technologies will impact one favourite pastimes. us leading trend  programmes content will delivered viewers via home networks  cable  satellite  telecoms companies  broadband service providers front rooms portable devices.  one talked-about technologies ces digital personal video recorders (dvr pvr). set-top boxes  like us s tivo uk s sky+ system  allow people record  store  play  pause forward wind tv programmes want.  essentially  technology allows much personalised tv. also built-in high-definition tv sets  big business japan us  slower take off europe lack high-definition programming. not can people forward wind adverts  can also forget abiding network channel schedules  putting together a-la-carte entertainment. us networks cable satellite companies worried means terms advertising revenues well  brand identity  viewer loyalty channels. although us leads technology moment  also concern raised europe  particularly growing uptake services like sky+.  happens today  will see nine months years  time uk   adam hume  bbc broadcast s futurologist told bbc news website. likes bbc  no issues lost advertising revenue yet. pressing issue moment commercial uk broadcasters  brand loyalty important everyone.  will talking content brands rather network brands   said tim hanlon  brand communications firm starcom mediavest.  reality broadband connections  anybody can producer content.  added:  challenge now hard promote programme much choice.   means  said stacey jolna  senior vice president tv guide tv group  way people find content want watch simplified tv viewers. means networks  us terms  channels take leaf google s book search engine future  instead scheduler help people find want watch. kind channel model might work younger ipod generation used taking control gadgets play them. might not suit everyone  panel recognised. older generations comfortable familiar schedules channel brands know getting. perhaps not want much choice put hands  mr hanlon suggested.  end  kids just diapers pushing buttons already - everything possible available   said mr hanlon.  ultimately  consumer will tell market want.   50 000 new gadgets technologies showcased ces  many enhancing tv-watching experience. high-definition tv sets everywhere many new models lcd (liquid crystal display) tvs launched dvr capability built  instead external boxes. one example launched show humax s 26-inch lcd tv 80-hour tivo dvr dvd recorder. one us s biggest satellite tv companies  directtv  even launched branded dvr show 100-hours recording capability  instant replay  search function. set can pause rewind tv 90 hours. microsoft chief bill gates announced pre-show keynote speech partnership tivo  called tivotogo  means people can play recorded programmes windows pcs mobile devices. reflect increasing trend freeing multimedia people can watch want  want.\n"
          ]
        }
      ]
    },
    {
      "cell_type": "code",
      "metadata": {
        "id": "gPNJMtx0jJPy"
      },
      "source": [
        "#学習するデータを何%にするか\n",
        "train_size = int(len(sentences) * training_portion) \n",
        "train_sentences = sentences[:train_size] \n",
        "train_labels = labels[:train_size]\n",
        "\n",
        "#検証するデータを何%にするか\n",
        "validation_sentences = sentences[train_size:]\n",
        "validation_labels = labels[train_size:] "
      ],
      "execution_count": 35,
      "outputs": []
    },
    {
      "cell_type": "code",
      "metadata": {
        "id": "UQppjd6IjJNU"
      },
      "source": [
        "tokenizer=Tokenizer(num_words=vocab_size,oov_token=oov_tok)\n",
        "tokenizer.fit_on_texts(train_sentences)\n",
        "\n",
        "word_index=tokenizer.word_index\n",
        "\n",
        "train_sequences=tokenizer.texts_to_sequences(train_sentences)\n",
        "train_padded=pad_sequences(train_sequences,padding=padding_type)"
      ],
      "execution_count": 40,
      "outputs": []
    },
    {
      "cell_type": "code",
      "metadata": {
        "colab": {
          "base_uri": "https://localhost:8080/"
        },
        "id": "JK4nH1ZyoDBZ",
        "outputId": "de7eaf81-647e-44ac-deae-560dbc09a32b"
      },
      "source": [
        "print(train_sequences[1])\n",
        "print(train_padded[1])"
      ],
      "execution_count": 46,
      "outputs": [
        {
          "output_type": "stream",
          "name": "stdout",
          "text": [
            "[1, 573, 234, 1, 1, 129, 1, 573, 1, 1, 689, 1, 1, 1, 1, 766, 275, 30, 1, 1, 1, 29, 1, 349, 1, 30, 800, 1, 860, 1, 1, 6, 1, 5, 1, 1, 2, 363, 192, 51, 1, 617, 1, 588, 1, 1, 1, 75, 2, 283, 6, 1, 111, 1, 1, 766, 1, 1, 471, 860, 1, 1, 1, 1, 1, 1, 1, 835, 1, 421, 6, 1, 364, 1, 6, 1, 26, 1, 203, 5, 1, 6, 1, 1, 364, 188, 6, 1, 26, 1, 1, 1, 1, 6, 1, 1, 25, 1, 1, 6, 1, 774, 1, 1, 1, 1, 1, 129, 1, 126, 321, 1, 1, 1, 860, 1, 498, 1, 6, 1, 774, 766, 4, 1, 255, 557, 1, 378, 1, 2, 1, 270, 694, 6, 1, 149, 736, 334, 1, 1, 573, 1, 1, 1, 1, 1, 1, 6, 1, 1, 1, 1, 1, 1, 1, 653, 1, 1, 577, 1, 1, 2, 363, 1, 87, 529, 819, 1, 1, 1, 625, 75, 1, 1, 1, 268, 1, 241, 37, 791, 268, 401, 6, 1, 557, 102, 14, 18, 125, 210, 1, 129, 1, 1, 1, 1, 1, 1, 1, 1]\n",
            "[  1 573 234 ...   0   0   0]\n"
          ]
        }
      ]
    },
    {
      "cell_type": "code",
      "metadata": {
        "id": "JafkvXYTn4lN"
      },
      "source": [
        "validation_sequences = tokenizer.texts_to_sequences(validation_sentences)\n",
        "validation_padded = pad_sequences(validation_sequences, padding=padding_type, maxlen=max_length) "
      ],
      "execution_count": 47,
      "outputs": []
    },
    {
      "cell_type": "code",
      "metadata": {
        "colab": {
          "base_uri": "https://localhost:8080/"
        },
        "id": "bcndJM5hn9Rl",
        "outputId": "618cf70f-c0dc-4bb7-bb25-26ee254a2e2e"
      },
      "source": [
        "print(labels[0])\n",
        "print(labels[1])\n",
        "print(labels[2])\n",
        "print(labels[3])\n",
        "label_tokenizer = Tokenizer()\n",
        "label_tokenizer.fit_on_texts(labels)\n",
        "\n",
        "training_label_seq = np.array(label_tokenizer.texts_to_sequences(train_labels))\n",
        "validation_label_seq = np.array(label_tokenizer.texts_to_sequences(validation_labels))\n",
        "print(training_label_seq[0])\n",
        "print(training_label_seq[1])\n",
        "print(training_label_seq[2])\n",
        "print(training_label_seq[3])\n",
        "print(training_label_seq.shape)\n",
        "print(validation_label_seq.shape)"
      ],
      "execution_count": 64,
      "outputs": [
        {
          "output_type": "stream",
          "name": "stdout",
          "text": [
            "tech\n",
            "business\n",
            "sport\n",
            "sport\n",
            "[4]\n",
            "[2]\n",
            "[1]\n",
            "[1]\n",
            "(1780, 1)\n",
            "(445, 1)\n"
          ]
        }
      ]
    },
    {
      "cell_type": "code",
      "metadata": {
        "colab": {
          "base_uri": "https://localhost:8080/"
        },
        "id": "2af0NiHHn7YV",
        "outputId": "c3b8c2cb-8352-440d-d633-254b8dec3aec"
      },
      "source": [
        "model = tf.keras.Sequential([\n",
        "    tf.keras.layers.Embedding(vocab_size, embedding_dim, input_length=max_length),\n",
        "    tf.keras.layers.GlobalAveragePooling1D(),\n",
        "    tf.keras.layers.Dense(24, activation='relu'),\n",
        "    tf.keras.layers.Dense(6, activation='softmax')\n",
        "])\n",
        "model.compile(loss='sparse_categorical_crossentropy',optimizer='adam',metrics=['accuracy'])\n",
        "model.summary()"
      ],
      "execution_count": 65,
      "outputs": [
        {
          "output_type": "stream",
          "name": "stdout",
          "text": [
            "Model: \"sequential\"\n",
            "_________________________________________________________________\n",
            "Layer (type)                 Output Shape              Param #   \n",
            "=================================================================\n",
            "embedding (Embedding)        (None, 120, 16)           16000     \n",
            "_________________________________________________________________\n",
            "global_average_pooling1d (Gl (None, 16)                0         \n",
            "_________________________________________________________________\n",
            "dense (Dense)                (None, 24)                408       \n",
            "_________________________________________________________________\n",
            "dense_1 (Dense)              (None, 6)                 150       \n",
            "=================================================================\n",
            "Total params: 16,558\n",
            "Trainable params: 16,558\n",
            "Non-trainable params: 0\n",
            "_________________________________________________________________\n"
          ]
        }
      ]
    },
    {
      "cell_type": "code",
      "metadata": {
        "colab": {
          "base_uri": "https://localhost:8080/"
        },
        "id": "CS7WIvtcpbDS",
        "outputId": "da18d1ab-8c08-4022-d99f-18a72db80370"
      },
      "source": [
        "num_epochs = 30\n",
        "history = model.fit(train_padded, training_label_seq, epochs=num_epochs, validation_data=(validation_padded, validation_label_seq), verbose=2)"
      ],
      "execution_count": 68,
      "outputs": [
        {
          "output_type": "stream",
          "name": "stdout",
          "text": [
            "Epoch 1/30\n",
            "56/56 - 0s - loss: 0.2866 - accuracy: 0.9421 - val_loss: 2.7052 - val_accuracy: 0.7213\n",
            "Epoch 2/30\n",
            "56/56 - 0s - loss: 0.2773 - accuracy: 0.9410 - val_loss: 2.7052 - val_accuracy: 0.7213\n",
            "Epoch 3/30\n",
            "56/56 - 0s - loss: 0.2729 - accuracy: 0.9421 - val_loss: 2.6894 - val_accuracy: 0.7236\n",
            "Epoch 4/30\n",
            "56/56 - 0s - loss: 0.2653 - accuracy: 0.9461 - val_loss: 2.7053 - val_accuracy: 0.7258\n",
            "Epoch 5/30\n",
            "56/56 - 0s - loss: 0.2564 - accuracy: 0.9489 - val_loss: 2.6809 - val_accuracy: 0.7281\n",
            "Epoch 6/30\n",
            "56/56 - 0s - loss: 0.2518 - accuracy: 0.9483 - val_loss: 2.7169 - val_accuracy: 0.7281\n",
            "Epoch 7/30\n",
            "56/56 - 0s - loss: 0.2449 - accuracy: 0.9466 - val_loss: 2.7149 - val_accuracy: 0.7281\n",
            "Epoch 8/30\n",
            "56/56 - 0s - loss: 0.2369 - accuracy: 0.9511 - val_loss: 2.7434 - val_accuracy: 0.7303\n",
            "Epoch 9/30\n",
            "56/56 - 0s - loss: 0.2320 - accuracy: 0.9517 - val_loss: 2.7289 - val_accuracy: 0.7303\n",
            "Epoch 10/30\n",
            "56/56 - 0s - loss: 0.2265 - accuracy: 0.9500 - val_loss: 2.6982 - val_accuracy: 0.7326\n",
            "Epoch 11/30\n",
            "56/56 - 0s - loss: 0.2233 - accuracy: 0.9522 - val_loss: 2.7889 - val_accuracy: 0.7348\n",
            "Epoch 12/30\n",
            "56/56 - 0s - loss: 0.2159 - accuracy: 0.9551 - val_loss: 2.7290 - val_accuracy: 0.7371\n",
            "Epoch 13/30\n",
            "56/56 - 0s - loss: 0.2107 - accuracy: 0.9539 - val_loss: 2.7352 - val_accuracy: 0.7393\n",
            "Epoch 14/30\n",
            "56/56 - 0s - loss: 0.2069 - accuracy: 0.9562 - val_loss: 2.7725 - val_accuracy: 0.7416\n",
            "Epoch 15/30\n",
            "56/56 - 0s - loss: 0.2012 - accuracy: 0.9579 - val_loss: 2.7454 - val_accuracy: 0.7416\n",
            "Epoch 16/30\n",
            "56/56 - 0s - loss: 0.1966 - accuracy: 0.9562 - val_loss: 2.7731 - val_accuracy: 0.7438\n",
            "Epoch 17/30\n",
            "56/56 - 0s - loss: 0.1923 - accuracy: 0.9584 - val_loss: 2.8132 - val_accuracy: 0.7438\n",
            "Epoch 18/30\n",
            "56/56 - 0s - loss: 0.1880 - accuracy: 0.9573 - val_loss: 2.7932 - val_accuracy: 0.7438\n",
            "Epoch 19/30\n",
            "56/56 - 0s - loss: 0.1845 - accuracy: 0.9584 - val_loss: 2.8147 - val_accuracy: 0.7438\n",
            "Epoch 20/30\n",
            "56/56 - 0s - loss: 0.1807 - accuracy: 0.9607 - val_loss: 2.8175 - val_accuracy: 0.7438\n",
            "Epoch 21/30\n",
            "56/56 - 0s - loss: 0.1773 - accuracy: 0.9601 - val_loss: 2.8283 - val_accuracy: 0.7438\n",
            "Epoch 22/30\n",
            "56/56 - 0s - loss: 0.1725 - accuracy: 0.9646 - val_loss: 2.7813 - val_accuracy: 0.7506\n",
            "Epoch 23/30\n",
            "56/56 - 0s - loss: 0.1727 - accuracy: 0.9596 - val_loss: 2.8316 - val_accuracy: 0.7506\n",
            "Epoch 24/30\n",
            "56/56 - 0s - loss: 0.1651 - accuracy: 0.9635 - val_loss: 2.8428 - val_accuracy: 0.7528\n",
            "Epoch 25/30\n",
            "56/56 - 0s - loss: 0.1618 - accuracy: 0.9635 - val_loss: 2.8239 - val_accuracy: 0.7551\n",
            "Epoch 26/30\n",
            "56/56 - 0s - loss: 0.1586 - accuracy: 0.9669 - val_loss: 2.8345 - val_accuracy: 0.7573\n",
            "Epoch 27/30\n",
            "56/56 - 0s - loss: 0.1562 - accuracy: 0.9663 - val_loss: 2.8531 - val_accuracy: 0.7573\n",
            "Epoch 28/30\n",
            "56/56 - 0s - loss: 0.1514 - accuracy: 0.9691 - val_loss: 2.8512 - val_accuracy: 0.7596\n",
            "Epoch 29/30\n",
            "56/56 - 0s - loss: 0.1489 - accuracy: 0.9674 - val_loss: 2.8182 - val_accuracy: 0.7596\n",
            "Epoch 30/30\n",
            "56/56 - 0s - loss: 0.1477 - accuracy: 0.9691 - val_loss: 2.8408 - val_accuracy: 0.7596\n"
          ]
        }
      ]
    },
    {
      "cell_type": "code",
      "metadata": {
        "colab": {
          "base_uri": "https://localhost:8080/",
          "height": 265
        },
        "id": "-2R7jbW5qMka",
        "outputId": "61a3a907-d702-405f-fd56-3a2f388aea2b"
      },
      "source": [
        "import matplotlib.pyplot as plt\n",
        "data=history.history\n",
        "plt.plot(data['accuracy'],label='accuracy')\n",
        "plt.plot(data['val_accuracy'],label='val_score')\n",
        "plt.legend()\n",
        "plt.show()"
      ],
      "execution_count": 77,
      "outputs": [
        {
          "output_type": "display_data",
          "data": {
            "image/png": "[encoded data removed]",
            "text/plain": [
              "<Figure size 432x288 with 1 Axes>"
            ]
          },
          "metadata": {
            "needs_background": "light"
          }
        }
      ]
    }
  ]
}