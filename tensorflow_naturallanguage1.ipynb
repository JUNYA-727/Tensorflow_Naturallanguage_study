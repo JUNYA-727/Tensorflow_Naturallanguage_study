{
  "nbformat": 4,
  "nbformat_minor": 0,
  "metadata": {
    "colab": {
      "name": "tensorflow_naturallanguage1.ipynb",
      "provenance": [],
      "authorship_tag": "ABX9TyMdXL/BqS58e6d3QLFzGgya",
      "include_colab_link": true
    },
    "kernelspec": {
      "name": "python3",
      "display_name": "Python 3"
    },
    "language_info": {
      "name": "python"
    }
  },
  "cells": [
    {
      "cell_type": "markdown",
      "metadata": {
        "id": "view-in-github",
        "colab_type": "text"
      },
      "source": [
        "<a href=\"https://colab.research.google.com/github/JUNYA-727/Tensorflow_Naturallanguage_study/blob/main/tensorflow_naturallanguage1.ipynb\" target=\"_parent\"><img src=\"https://colab.research.google.com/assets/colab-badge.svg\" alt=\"Open In Colab\"/></a>"
      ]
    },
    {
      "cell_type": "code",
      "metadata": {
        "colab": {
          "base_uri": "https://localhost:8080/"
        },
        "id": "lgqFbsvge5VM",
        "outputId": "4531950a-a9df-436d-e3b6-72c0101828b4"
      },
      "source": [
        "from tensorflow.keras.preprocessing.text import Tokenizer\n",
        "\n",
        "sentences=[\n",
        "           \"i love my dog\",\n",
        "           \"I, love my cat\",\n",
        "           'You love my dog!'\n",
        "]\n",
        "tokenizer=Tokenizer(num_words=100)\n",
        "tokenizer.fit_on_texts(sentences)\n",
        "\n",
        "word_index=tokenizer.word_index\n",
        "print(word_index)"
      ],
      "execution_count": null,
      "outputs": [
        {
          "output_type": "stream",
          "name": "stdout",
          "text": [
            "{'love': 1, 'my': 2, 'i': 3, 'dog': 4, 'cat': 5, 'you': 6}\n"
          ]
        }
      ]
    },
    {
      "cell_type": "code",
      "metadata": {
        "id": "tuHlqzU7fKJR",
        "colab": {
          "base_uri": "https://localhost:8080/"
        },
        "outputId": "5bca4c4a-27c2-4d7a-a266-7d3b2519cf58"
      },
      "source": [
        "import tensorflow as tf\n",
        "from tensorflow import keras \n",
        "#与えられた文字が一定より短いなら切り捨てを行い､もしくは最も長い文章に対して統一する\n",
        "from tensorflow.keras.preprocessing.sequence import pad_sequences\n",
        "\n",
        "sentences=[\n",
        "           \"i love my dog\",\n",
        "           'I love my cat',\n",
        "           'You love my dog!',\n",
        "           'Do you think my dog is amazing?'\n",
        "]\n",
        "\n",
        "tokenizer=Tokenizer(num_words=100,oov_token='<00V>')\n",
        "tokenizer.fit_on_texts(sentences)\n",
        "word_index=tokenizer.word_index\n",
        "\n",
        "sequences=tokenizer.texts_to_sequences(sentences)\n",
        "\n",
        "#maxlen=後ろから文字を5個取得する､足りないのは0で補う\n",
        "padded=pad_sequences(sequences,maxlen=5)\n",
        "\n",
        "print(word_index)\n",
        "print(sequences)\n",
        "print(padded)\n",
        "\n",
        "\n",
        "test_data=[\n",
        "           'i really love my dog',\n",
        "           'my dog loves my manatee'\n",
        "]\n",
        "\n",
        "test_seq=tokenizer.texts_to_sequences(test_data)\n",
        "print(test_seq)\n",
        "\n",
        "padded=pad_sequences(test_seq,maxlen=10)\n",
        "print(padded)"
      ],
      "execution_count": null,
      "outputs": [
        {
          "output_type": "stream",
          "name": "stdout",
          "text": [
            "{'<00V>': 1, 'my': 2, 'love': 3, 'dog': 4, 'i': 5, 'you': 6, 'cat': 7, 'do': 8, 'think': 9, 'is': 10, 'amazing': 11}\n",
            "[[5, 3, 2, 4], [5, 3, 2, 7], [6, 3, 2, 4], [8, 6, 9, 2, 4, 10, 11]]\n",
            "[[ 0  5  3  2  4]\n",
            " [ 0  5  3  2  7]\n",
            " [ 0  6  3  2  4]\n",
            " [ 9  2  4 10 11]]\n",
            "[[5, 1, 3, 2, 4], [2, 4, 1, 2, 1]]\n",
            "[[0 0 0 0 0 5 1 3 2 4]\n",
            " [0 0 0 0 0 2 4 1 2 1]]\n"
          ]
        }
      ]
    }
  ]
}